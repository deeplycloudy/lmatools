{
 "metadata": {
  "name": "mflash test"
 },
 "nbformat": 3,
 "nbformat_minor": 0,
 "worksheets": [
  {
   "cells": [
    {
     "cell_type": "code",
     "collapsed": false,
     "input": [
      "from lmatools.flashsort.autosort.autorun import run_files_with_params, test_output, logger_setup"
     ],
     "language": "python",
     "metadata": {},
     "outputs": [],
     "prompt_number": 1
    },
    {
     "cell_type": "code",
     "collapsed": false,
     "input": [
      "outpath = '/Users/ebruning/out/scratch/'\n",
      "logger_setup(outpath)"
     ],
     "language": "python",
     "metadata": {},
     "outputs": [],
     "prompt_number": 2
    },
    {
     "cell_type": "code",
     "collapsed": false,
     "input": [
      "outpath = '.'"
     ],
     "language": "python",
     "metadata": {},
     "outputs": [],
     "prompt_number": 3
    },
    {
     "cell_type": "code",
     "collapsed": false,
     "input": [
      "files = ['/data/20040526/LMA/LYLOUT_040526_224000_0600.dat.gz', '/data/20040526/LMA/LYLOUT_040526_225000_0600.dat.gz' ]"
     ],
     "language": "python",
     "metadata": {},
     "outputs": [],
     "prompt_number": 4
    },
    {
     "cell_type": "code",
     "collapsed": false,
     "input": [
      "ctrLat = 35.23833\n",
      "ctrLon = -97.46028\n",
      "\n",
      "params = {'stations':(6,13),\n",
      "          'chi2':(0,1.0),\n",
      "          'ascii_flashes_out':'flashes_out.dat',\n",
      "          'ctr_lat':ctrLat, 'ctr_lon':ctrLon,\n",
      "          }\n"
     ],
     "language": "python",
     "metadata": {},
     "outputs": [],
     "prompt_number": 5
    },
    {
     "cell_type": "code",
     "collapsed": false,
     "input": [
      "from lmatools.flashsort.autosort.autorun_mflash import cluster\n",
      "run_files_with_params(files, outpath, params, cluster, retain_ascii_output=False, cleanup_tmp=True)"
     ],
     "language": "python",
     "metadata": {},
     "outputs": [
      {
       "output_type": "stream",
       "stream": "stderr",
       "text": [
        "/Library/Frameworks/Python.framework/Versions/7.2/lib/python2.7/site-packages/matplotlib/delaunay/triangulate.py:78: DuplicatePointWarning: Input data contains duplicate x,y points; some values are ignored.\n",
        "  DuplicatePointWarning,\n",
        "ERROR: Internal Python error in the inspect module.\n",
        "Below is the traceback from this internal error.\n"
       ]
      },
      {
       "output_type": "stream",
       "stream": "stdout",
       "text": [
        "Traceback (most recent call last):\n",
        "  File \"/Users/ebruning/Library/Python/2.7/lib/python/site-packages/IPython/core/ultratb.py\", line 756, in structured_traceback\n",
        "    records = _fixed_getinnerframes(etb, context, tb_offset)\n",
        "  File \"/Users/ebruning/Library/Python/2.7/lib/python/site-packages/IPython/core/ultratb.py\", line 242, in _fixed_getinnerframes\n",
        "    records  = fix_frame_records_filenames(inspect.getinnerframes(etb, context))\n",
        "  File \"/Library/Frameworks/Python.framework/Versions/7.2/lib/python2.7/inspect.py\", line 1041, in getinnerframes\n",
        "    framelist.append((tb.tb_frame,) + getframeinfo(tb, context))\n",
        "  File \"/Library/Frameworks/Python.framework/Versions/7.2/lib/python2.7/inspect.py\", line 1001, in getframeinfo\n",
        "    filename = getsourcefile(frame) or getfile(frame)\n",
        "  File \"/Library/Frameworks/Python.framework/Versions/7.2/lib/python2.7/inspect.py\", line 456, in getsourcefile\n",
        "    if hasattr(getmodule(object, filename), '__loader__'):\n",
        "  File \"/Library/Frameworks/Python.framework/Versions/7.2/lib/python2.7/inspect.py\", line 485, in getmodule\n",
        "    file = getabsfile(object, _filename)\n",
        "  File \"/Library/Frameworks/Python.framework/Versions/7.2/lib/python2.7/inspect.py\", line 469, in getabsfile\n",
        "    return os.path.normcase(os.path.abspath(_filename))\n",
        "  File \"/Library/Frameworks/Python.framework/Versions/7.2/lib/python2.7/posixpath.py\", line 347, in abspath\n",
        "    cwd = os.getcwd()\n"
       ]
      },
      {
       "ename": "HDF5ExtError",
       "evalue": "Can't open the group: '/'.",
       "output_type": "pyerr",
       "traceback": ""
      },
      {
       "output_type": "stream",
       "stream": "stdout",
       "text": [
        "OSError: [Errno 2] No such file or directory\n"
       ]
      },
      {
       "output_type": "stream",
       "stream": "stderr",
       "text": [
        "\n",
        "Unfortunately, your original traceback can not be constructed.\n"
       ]
      }
     ],
     "prompt_number": 6
    },
    {
     "cell_type": "code",
     "collapsed": false,
     "input": [
      "\n",
      "\n"
     ],
     "language": "python",
     "metadata": {},
     "outputs": []
    }
   ],
   "metadata": {}
  }
 ]
}